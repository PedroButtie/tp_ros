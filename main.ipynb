{
 "cells": [
  {
   "cell_type": "code",
   "execution_count": null,
   "metadata": {},
   "outputs": [],
   "source": [
    "import numpy as np\n",
    "import matplotlib.pyplot as plt\n",
    "\n",
    "# Función para leer los datos del archivo\n",
    "def leer_datos_archivo(filename):\n",
    "    angulos = []\n",
    "    distancias = []\n",
    "    with open(filename, 'r') as file:\n",
    "        for line in file:\n",
    "            datos = line.strip().split(',')\n",
    "            angulo = float(datos[0])\n",
    "            distancia = float(datos[1])\n",
    "            angulos.append(angulo)\n",
    "            distancias.append(distancia)\n",
    "    return np.array(angulos), np.array(distancias)\n",
    "\n",
    "# Leer datos del archivo 'scan.txt'\n",
    "filename = 'scan.txt'\n",
    "angulos, distancias = leer_datos_archivo(filename)\n"
   ]
  },
  {
   "cell_type": "code",
   "execution_count": null,
   "metadata": {},
   "outputs": [],
   "source": [
    "def seleccionar_barridos(angulos, distancias, num_barridos):\n",
    "    total_puntos = len(angulos)\n",
    "    intervalo = total_puntos // num_barridos\n",
    "    barridos = []\n",
    "    for i in range(num_barridos):\n",
    "        inicio = i * intervalo\n",
    "        fin = (i + 1) * intervalo\n",
    "        barrido_angulos = angulos[inicio:fin]\n",
    "        barrido_distancias = distancias[inicio:fin]\n",
    "        barridos.append((barrido_angulos, barrido_distancias))\n",
    "    return barridos\n",
    "\n",
    "# Seleccionar tres barridos\n",
    "num_barridos = 3\n",
    "barridos = seleccionar_barridos(angulos, distancias, num_barridos)\n"
   ]
  },
  {
   "cell_type": "code",
   "execution_count": null,
   "metadata": {},
   "outputs": [],
   "source": [
    "# Generar gráficos en coordenadas polares\n",
    "fig, axs = plt.subplots(1, num_barridos, subplot_kw={'projection': 'polar'}, figsize=(15, 5))\n",
    "\n",
    "for i, (barrido_angulos, barrido_distancias) in enumerate(barridos):\n",
    "    axs[i].scatter(barrido_angulos, barrido_distancias)\n",
    "    axs[i].set_title(f'Barrido {i + 1}')\n",
    "    axs[i].set_rmax(max(distancias))  # Ajustar el radio máximo para que todos los gráficos tengan la misma escala\n",
    "\n",
    "plt.tight_layout()\n",
    "plt.show()\n"
   ]
  }
 ],
 "metadata": {
  "kernelspec": {
   "display_name": "Python 3",
   "language": "python",
   "name": "python3"
  },
  "language_info": {
   "codemirror_mode": {
    "name": "ipython",
    "version": 3
   },
   "file_extension": ".py",
   "mimetype": "text/x-python",
   "name": "python",
   "nbconvert_exporter": "python",
   "pygments_lexer": "ipython3",
   "version": "3.12.3"
  }
 },
 "nbformat": 4,
 "nbformat_minor": 2
}
